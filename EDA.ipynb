{
 "cells": [
  {
   "cell_type": "markdown",
   "metadata": {},
   "source": [
    "# EDA "
   ]
  },
  {
   "cell_type": "markdown",
   "metadata": {},
   "source": [
    "### Import Essential Libraries and Dataset"
   ]
  },
  {
   "cell_type": "code",
   "execution_count": 80,
   "metadata": {},
   "outputs": [],
   "source": [
    "# importing libraries\n",
    "import numpy as np\n",
    "import pandas as pd\n",
    "import matplotlib.pyplot as plt\n",
    "import seaborn as sb\n",
    "sb.set()\n",
    "import warnings\n",
    "warnings.filterwarnings(\"ignore\")\n",
    "from collections import Counter"
   ]
  },
  {
   "cell_type": "code",
   "execution_count": 48,
   "metadata": {},
   "outputs": [
    {
     "name": "stdout",
     "output_type": "stream",
     "text": [
      "<class 'pandas.core.frame.DataFrame'>\n",
      "RangeIndex: 28957 entries, 0 to 28956\n",
      "Data columns (total 6 columns):\n",
      " #   Column   Non-Null Count  Dtype \n",
      "---  ------   --------------  ----- \n",
      " 0   action   28957 non-null  object\n",
      " 1   guest    28957 non-null  bool  \n",
      " 2   id       28957 non-null  int64 \n",
      " 3   subject  28957 non-null  object\n",
      " 4   system   28957 non-null  object\n",
      " 5   time     28957 non-null  object\n",
      "dtypes: bool(1), int64(1), object(4)\n",
      "memory usage: 1.1+ MB\n",
      "<class 'pandas.core.frame.DataFrame'>\n",
      "RangeIndex: 166941 entries, 0 to 166940\n",
      "Data columns (total 9 columns):\n",
      " #   Column      Non-Null Count   Dtype  \n",
      "---  ------      --------------   -----  \n",
      " 0   action      166941 non-null  object \n",
      " 1   direction   57915 non-null   object \n",
      " 2   floor       166941 non-null  int64  \n",
      " 3   subject     166941 non-null  object \n",
      " 4   system      166941 non-null  object \n",
      " 5   time        166941 non-null  object \n",
      " 6   weight      109026 non-null  float64\n",
      " 7   date        166941 non-null  object \n",
      " 8   date_daily  166941 non-null  object \n",
      "dtypes: float64(1), int64(1), object(7)\n",
      "memory usage: 11.5+ MB\n"
     ]
    }
   ],
   "source": [
    "# import dataset\n",
    "df_people = pd.read_csv('data\\\\people.csv')\n",
    "df_sim = pd.read_csv('data\\\\simulation.csv')\n",
    "\n",
    "# data information\n",
    "df_people.info()\n",
    "df_sim.info()"
   ]
  },
  {
   "cell_type": "markdown",
   "metadata": {},
   "source": [
    "### Step 1: Data Cleaning"
   ]
  },
  {
   "cell_type": "markdown",
   "metadata": {},
   "source": [
    "1. Convert `time` column to datatime in pandas\n",
    "2. Drop the `date` and `date_daily`  columnns"
   ]
  },
  {
   "cell_type": "code",
   "execution_count": 49,
   "metadata": {},
   "outputs": [],
   "source": [
    "df_sim['time'] = pd.to_datetime(df_sim['time'])\n",
    "df_sim.drop(['date', 'date_daily'], axis=1, inplace=True)\n",
    "\n",
    "df_people['time'] = pd.to_datetime(df_people['time'])\n"
   ]
  },
  {
   "cell_type": "code",
   "execution_count": 50,
   "metadata": {},
   "outputs": [
    {
     "data": {
      "text/html": [
       "<div>\n",
       "<style scoped>\n",
       "    .dataframe tbody tr th:only-of-type {\n",
       "        vertical-align: middle;\n",
       "    }\n",
       "\n",
       "    .dataframe tbody tr th {\n",
       "        vertical-align: top;\n",
       "    }\n",
       "\n",
       "    .dataframe thead th {\n",
       "        text-align: right;\n",
       "    }\n",
       "</style>\n",
       "<table border=\"1\" class=\"dataframe\">\n",
       "  <thead>\n",
       "    <tr style=\"text-align: right;\">\n",
       "      <th></th>\n",
       "      <th>action</th>\n",
       "      <th>direction</th>\n",
       "      <th>floor</th>\n",
       "      <th>subject</th>\n",
       "      <th>system</th>\n",
       "      <th>time</th>\n",
       "      <th>weight</th>\n",
       "    </tr>\n",
       "  </thead>\n",
       "  <tbody>\n",
       "    <tr>\n",
       "      <th>0</th>\n",
       "      <td>call</td>\n",
       "      <td>up</td>\n",
       "      <td>0</td>\n",
       "      <td>system</td>\n",
       "      <td>elevator control</td>\n",
       "      <td>2019-01-01 07:50:53.906554</td>\n",
       "      <td>NaN</td>\n",
       "    </tr>\n",
       "    <tr>\n",
       "      <th>1</th>\n",
       "      <td>door open</td>\n",
       "      <td>NaN</td>\n",
       "      <td>0</td>\n",
       "      <td>1</td>\n",
       "      <td>elevator control</td>\n",
       "      <td>2019-01-01 07:50:53.906554</td>\n",
       "      <td>0.000000</td>\n",
       "    </tr>\n",
       "    <tr>\n",
       "      <th>2</th>\n",
       "      <td>door open</td>\n",
       "      <td>NaN</td>\n",
       "      <td>2</td>\n",
       "      <td>1</td>\n",
       "      <td>elevator control</td>\n",
       "      <td>2019-01-01 07:51:19.006554</td>\n",
       "      <td>191.487083</td>\n",
       "    </tr>\n",
       "    <tr>\n",
       "      <th>3</th>\n",
       "      <td>call</td>\n",
       "      <td>up</td>\n",
       "      <td>0</td>\n",
       "      <td>system</td>\n",
       "      <td>elevator control</td>\n",
       "      <td>2019-01-01 07:54:40.829759</td>\n",
       "      <td>NaN</td>\n",
       "    </tr>\n",
       "    <tr>\n",
       "      <th>4</th>\n",
       "      <td>door open</td>\n",
       "      <td>NaN</td>\n",
       "      <td>0</td>\n",
       "      <td>2</td>\n",
       "      <td>elevator control</td>\n",
       "      <td>2019-01-01 07:54:40.829759</td>\n",
       "      <td>0.000000</td>\n",
       "    </tr>\n",
       "  </tbody>\n",
       "</table>\n",
       "</div>"
      ],
      "text/plain": [
       "      action direction  floor subject            system  \\\n",
       "0       call        up      0  system  elevator control   \n",
       "1  door open       NaN      0       1  elevator control   \n",
       "2  door open       NaN      2       1  elevator control   \n",
       "3       call        up      0  system  elevator control   \n",
       "4  door open       NaN      0       2  elevator control   \n",
       "\n",
       "                        time      weight  \n",
       "0 2019-01-01 07:50:53.906554         NaN  \n",
       "1 2019-01-01 07:50:53.906554    0.000000  \n",
       "2 2019-01-01 07:51:19.006554  191.487083  \n",
       "3 2019-01-01 07:54:40.829759         NaN  \n",
       "4 2019-01-01 07:54:40.829759    0.000000  "
      ]
     },
     "execution_count": 50,
     "metadata": {},
     "output_type": "execute_result"
    }
   ],
   "source": [
    "df_sim.head()"
   ]
  },
  {
   "cell_type": "code",
   "execution_count": 51,
   "metadata": {},
   "outputs": [
    {
     "data": {
      "text/html": [
       "<div>\n",
       "<style scoped>\n",
       "    .dataframe tbody tr th:only-of-type {\n",
       "        vertical-align: middle;\n",
       "    }\n",
       "\n",
       "    .dataframe tbody tr th {\n",
       "        vertical-align: top;\n",
       "    }\n",
       "\n",
       "    .dataframe thead th {\n",
       "        text-align: right;\n",
       "    }\n",
       "</style>\n",
       "<table border=\"1\" class=\"dataframe\">\n",
       "  <thead>\n",
       "    <tr style=\"text-align: right;\">\n",
       "      <th></th>\n",
       "      <th>action</th>\n",
       "      <th>guest</th>\n",
       "      <th>id</th>\n",
       "      <th>subject</th>\n",
       "      <th>system</th>\n",
       "      <th>time</th>\n",
       "    </tr>\n",
       "  </thead>\n",
       "  <tbody>\n",
       "    <tr>\n",
       "      <th>0</th>\n",
       "      <td>swiped in</td>\n",
       "      <td>True</td>\n",
       "      <td>112070702136</td>\n",
       "      <td>Charlotta SCHNITTGER</td>\n",
       "      <td>swipe system</td>\n",
       "      <td>2019-01-01 07:50:22.678631</td>\n",
       "    </tr>\n",
       "    <tr>\n",
       "      <th>1</th>\n",
       "      <td>swiped in</td>\n",
       "      <td>True</td>\n",
       "      <td>112070356608</td>\n",
       "      <td>Vassie GALARSA</td>\n",
       "      <td>swipe system</td>\n",
       "      <td>2019-01-01 07:54:09.941757</td>\n",
       "    </tr>\n",
       "    <tr>\n",
       "      <th>2</th>\n",
       "      <td>swiped in</td>\n",
       "      <td>True</td>\n",
       "      <td>112090458320</td>\n",
       "      <td>Wenzel ERBSTOESSER</td>\n",
       "      <td>swipe system</td>\n",
       "      <td>2019-01-01 08:00:54.406641</td>\n",
       "    </tr>\n",
       "    <tr>\n",
       "      <th>3</th>\n",
       "      <td>swiped in</td>\n",
       "      <td>True</td>\n",
       "      <td>112070884320</td>\n",
       "      <td>Rayan SHATTUCK</td>\n",
       "      <td>swipe system</td>\n",
       "      <td>2019-01-01 08:10:02.745435</td>\n",
       "    </tr>\n",
       "    <tr>\n",
       "      <th>4</th>\n",
       "      <td>swiped in</td>\n",
       "      <td>True</td>\n",
       "      <td>112071001200</td>\n",
       "      <td>Heath HILLMANN</td>\n",
       "      <td>swipe system</td>\n",
       "      <td>2019-01-01 08:14:58.313058</td>\n",
       "    </tr>\n",
       "  </tbody>\n",
       "</table>\n",
       "</div>"
      ],
      "text/plain": [
       "      action  guest            id               subject        system  \\\n",
       "0  swiped in   True  112070702136  Charlotta SCHNITTGER  swipe system   \n",
       "1  swiped in   True  112070356608        Vassie GALARSA  swipe system   \n",
       "2  swiped in   True  112090458320    Wenzel ERBSTOESSER  swipe system   \n",
       "3  swiped in   True  112070884320        Rayan SHATTUCK  swipe system   \n",
       "4  swiped in   True  112071001200        Heath HILLMANN  swipe system   \n",
       "\n",
       "                        time  \n",
       "0 2019-01-01 07:50:22.678631  \n",
       "1 2019-01-01 07:54:09.941757  \n",
       "2 2019-01-01 08:00:54.406641  \n",
       "3 2019-01-01 08:10:02.745435  \n",
       "4 2019-01-01 08:14:58.313058  "
      ]
     },
     "execution_count": 51,
     "metadata": {},
     "output_type": "execute_result"
    }
   ],
   "source": [
    "df_people.head()"
   ]
  },
  {
   "cell_type": "markdown",
   "metadata": {},
   "source": [
    "### Step 2: Explore the data"
   ]
  },
  {
   "cell_type": "markdown",
   "metadata": {},
   "source": [
    "##### Description\n",
    "\n",
    "> people.csv documented all of the swipes into the buildings security system\n",
    "> \n",
    "> simulation.csv is a log of each elevator's status and operations, there were total  4 elevators in the 20 story building."
   ]
  },
  {
   "cell_type": "markdown",
   "metadata": {},
   "source": [
    "##### Up/Down Calls for the elevator"
   ]
  },
  {
   "cell_type": "code",
   "execution_count": 52,
   "metadata": {},
   "outputs": [
    {
     "data": {
      "image/png": "[encoded data removed]",
      "text/plain": [
       "<Figure size 720x360 with 1 Axes>"
      ]
     },
     "metadata": {},
     "output_type": "display_data"
    }
   ],
   "source": [
    "plt1,ax1 = plt.subplots(figsize=(10,5))\n",
    "ax1 = sb.countplot(df_sim.direction)\n",
    "ax1.set_title(\"Up/Down Calls\")\n",
    "for rect in ax1.patches:\n",
    "    ax1.text(rect.get_x() + rect.get_width()/2, rect.get_height(), rect.get_height(), ha='center', va='bottom')\n",
    "plt1.show()"
   ]
  },
  {
   "cell_type": "markdown",
   "metadata": {},
   "source": [
    "Can see the elevator has an almost equal up/down calls in total."
   ]
  },
  {
   "cell_type": "markdown",
   "metadata": {},
   "source": [
    "##### Reshaping the data to what we need\n"
   ]
  },
  {
   "cell_type": "code",
   "execution_count": 53,
   "metadata": {},
   "outputs": [],
   "source": [
    "df_sim['wait_time']  = np.NaN # create a new column for wait time\n",
    "df_sim['elevator_id'] = '' # create a new column for elevator id (which elevator arrived)\n",
    "df_sim[\"src_floor\"] = '' # create a new column for the floor the elevator is coming from"
   ]
  },
  {
   "cell_type": "code",
   "execution_count": 59,
   "metadata": {},
   "outputs": [],
   "source": [
    "for row in df_sim.itertuples():\n",
    "    if row.subject == \"system\":\n",
    "        forward_search_range = df_sim.iloc[row.Index : row.Index + 100]\n",
    "        for forward_search_row in forward_search_range.itertuples():\n",
    "            if (\n",
    "                row.floor == forward_search_row.floor\n",
    "                and forward_search_row.action == \"door open\"\n",
    "            ):\n",
    "                result = forward_search_row.time - row.time\n",
    "                df_sim.loc[row.Index, \"wait_time\"] = result.seconds\n",
    "                df_sim.loc[row.Index, \"elevator_id\"] = forward_search_row.subject\n",
    "                break\n",
    "            else:\n",
    "                continue\n",
    "        backward_search_range = df_sim.iloc[row.Index :: -1]\n",
    "        for backward_search_row in backward_search_range.itertuples():\n",
    "            if (\n",
    "                backward_search_row.subject == forward_search_row.subject\n",
    "                and backward_search_row.action == \"door open\"\n",
    "            ):\n",
    "                df_sim.at[row.Index, \"src_floor\"] = backward_search_row.floor\n",
    "                break\n",
    "            else:\n",
    "                df_sim.at[row.Index, \"src_floor\"] = row.floor\n",
    "                continue\n"
   ]
  },
  {
   "cell_type": "code",
   "execution_count": 60,
   "metadata": {},
   "outputs": [],
   "source": [
    "df_sim.wait_time.fillna(0,inplace=True)\n",
    "df_sim.wait_time = df_sim.wait_time.astype(int)"
   ]
  },
  {
   "cell_type": "code",
   "execution_count": 61,
   "metadata": {},
   "outputs": [],
   "source": [
    "def floors_traveled(x):\n",
    "    if x.subject == \"system\":\n",
    "        result = abs(x.floor - x.src_floor)\n",
    "        return result\n",
    "    else:\n",
    "        return 0\n",
    "\n",
    "\n",
    "floor_difference = df_sim.apply(floors_traveled, axis=1)\n",
    "df_sim[\"floors_traveled\"] = floor_difference\n"
   ]
  },
  {
   "cell_type": "code",
   "execution_count": 62,
   "metadata": {},
   "outputs": [],
   "source": [
    "# change datafram index to time\n",
    "df_sim = df_sim.set_index('time')"
   ]
  },
  {
   "cell_type": "code",
   "execution_count": 63,
   "metadata": {},
   "outputs": [
    {
     "data": {
      "text/html": [
       "<div>\n",
       "<style scoped>\n",
       "    .dataframe tbody tr th:only-of-type {\n",
       "        vertical-align: middle;\n",
       "    }\n",
       "\n",
       "    .dataframe tbody tr th {\n",
       "        vertical-align: top;\n",
       "    }\n",
       "\n",
       "    .dataframe thead th {\n",
       "        text-align: right;\n",
       "    }\n",
       "</style>\n",
       "<table border=\"1\" class=\"dataframe\">\n",
       "  <thead>\n",
       "    <tr style=\"text-align: right;\">\n",
       "      <th></th>\n",
       "      <th>action</th>\n",
       "      <th>direction</th>\n",
       "      <th>floor</th>\n",
       "      <th>subject</th>\n",
       "      <th>system</th>\n",
       "      <th>wait_time</th>\n",
       "      <th>elevator_id</th>\n",
       "      <th>src_floor</th>\n",
       "      <th>floors_traveled</th>\n",
       "    </tr>\n",
       "    <tr>\n",
       "      <th>time</th>\n",
       "      <th></th>\n",
       "      <th></th>\n",
       "      <th></th>\n",
       "      <th></th>\n",
       "      <th></th>\n",
       "      <th></th>\n",
       "      <th></th>\n",
       "      <th></th>\n",
       "      <th></th>\n",
       "    </tr>\n",
       "  </thead>\n",
       "  <tbody>\n",
       "    <tr>\n",
       "      <th>2019-01-01 07:50:53.906554</th>\n",
       "      <td>call</td>\n",
       "      <td>up</td>\n",
       "      <td>0</td>\n",
       "      <td>system</td>\n",
       "      <td>elevator control</td>\n",
       "      <td>0</td>\n",
       "      <td>1</td>\n",
       "      <td>0</td>\n",
       "      <td>0</td>\n",
       "    </tr>\n",
       "    <tr>\n",
       "      <th>2019-01-01 07:54:40.829759</th>\n",
       "      <td>call</td>\n",
       "      <td>up</td>\n",
       "      <td>0</td>\n",
       "      <td>system</td>\n",
       "      <td>elevator control</td>\n",
       "      <td>0</td>\n",
       "      <td>2</td>\n",
       "      <td>0</td>\n",
       "      <td>0</td>\n",
       "    </tr>\n",
       "    <tr>\n",
       "      <th>2019-01-01 08:01:37.689910</th>\n",
       "      <td>call</td>\n",
       "      <td>up</td>\n",
       "      <td>0</td>\n",
       "      <td>system</td>\n",
       "      <td>elevator control</td>\n",
       "      <td>0</td>\n",
       "      <td>0</td>\n",
       "      <td>0</td>\n",
       "      <td>0</td>\n",
       "    </tr>\n",
       "    <tr>\n",
       "      <th>2019-01-01 08:10:29.154320</th>\n",
       "      <td>call</td>\n",
       "      <td>up</td>\n",
       "      <td>0</td>\n",
       "      <td>system</td>\n",
       "      <td>elevator control</td>\n",
       "      <td>0</td>\n",
       "      <td>3</td>\n",
       "      <td>0</td>\n",
       "      <td>0</td>\n",
       "    </tr>\n",
       "    <tr>\n",
       "      <th>2019-01-01 08:15:34.082043</th>\n",
       "      <td>call</td>\n",
       "      <td>up</td>\n",
       "      <td>0</td>\n",
       "      <td>system</td>\n",
       "      <td>elevator control</td>\n",
       "      <td>8</td>\n",
       "      <td>2</td>\n",
       "      <td>2</td>\n",
       "      <td>2</td>\n",
       "    </tr>\n",
       "    <tr>\n",
       "      <th>...</th>\n",
       "      <td>...</td>\n",
       "      <td>...</td>\n",
       "      <td>...</td>\n",
       "      <td>...</td>\n",
       "      <td>...</td>\n",
       "      <td>...</td>\n",
       "      <td>...</td>\n",
       "      <td>...</td>\n",
       "      <td>...</td>\n",
       "    </tr>\n",
       "    <tr>\n",
       "      <th>2019-05-29 21:33:52.172793</th>\n",
       "      <td>call</td>\n",
       "      <td>down</td>\n",
       "      <td>2</td>\n",
       "      <td>system</td>\n",
       "      <td>elevator control</td>\n",
       "      <td>8</td>\n",
       "      <td>1</td>\n",
       "      <td>0</td>\n",
       "      <td>2</td>\n",
       "    </tr>\n",
       "    <tr>\n",
       "      <th>2019-05-29 21:38:43.165430</th>\n",
       "      <td>call</td>\n",
       "      <td>down</td>\n",
       "      <td>2</td>\n",
       "      <td>system</td>\n",
       "      <td>elevator control</td>\n",
       "      <td>8</td>\n",
       "      <td>3</td>\n",
       "      <td>0</td>\n",
       "      <td>2</td>\n",
       "    </tr>\n",
       "    <tr>\n",
       "      <th>2019-05-29 21:58:30.144980</th>\n",
       "      <td>call</td>\n",
       "      <td>down</td>\n",
       "      <td>15</td>\n",
       "      <td>system</td>\n",
       "      <td>elevator control</td>\n",
       "      <td>60</td>\n",
       "      <td>2</td>\n",
       "      <td>0</td>\n",
       "      <td>15</td>\n",
       "    </tr>\n",
       "    <tr>\n",
       "      <th>2019-05-29 22:18:53.757071</th>\n",
       "      <td>call</td>\n",
       "      <td>down</td>\n",
       "      <td>16</td>\n",
       "      <td>system</td>\n",
       "      <td>elevator control</td>\n",
       "      <td>64</td>\n",
       "      <td>0</td>\n",
       "      <td>0</td>\n",
       "      <td>16</td>\n",
       "    </tr>\n",
       "    <tr>\n",
       "      <th>2019-05-29 22:27:20.316376</th>\n",
       "      <td>call</td>\n",
       "      <td>down</td>\n",
       "      <td>2</td>\n",
       "      <td>system</td>\n",
       "      <td>elevator control</td>\n",
       "      <td>8</td>\n",
       "      <td>3</td>\n",
       "      <td>0</td>\n",
       "      <td>2</td>\n",
       "    </tr>\n",
       "  </tbody>\n",
       "</table>\n",
       "<p>57915 rows × 9 columns</p>\n",
       "</div>"
      ],
      "text/plain": [
       "                           action direction  floor subject            system  \\\n",
       "time                                                                           \n",
       "2019-01-01 07:50:53.906554   call        up      0  system  elevator control   \n",
       "2019-01-01 07:54:40.829759   call        up      0  system  elevator control   \n",
       "2019-01-01 08:01:37.689910   call        up      0  system  elevator control   \n",
       "2019-01-01 08:10:29.154320   call        up      0  system  elevator control   \n",
       "2019-01-01 08:15:34.082043   call        up      0  system  elevator control   \n",
       "...                           ...       ...    ...     ...               ...   \n",
       "2019-05-29 21:33:52.172793   call      down      2  system  elevator control   \n",
       "2019-05-29 21:38:43.165430   call      down      2  system  elevator control   \n",
       "2019-05-29 21:58:30.144980   call      down     15  system  elevator control   \n",
       "2019-05-29 22:18:53.757071   call      down     16  system  elevator control   \n",
       "2019-05-29 22:27:20.316376   call      down      2  system  elevator control   \n",
       "\n",
       "                            wait_time elevator_id src_floor  floors_traveled  \n",
       "time                                                                          \n",
       "2019-01-01 07:50:53.906554          0           1         0                0  \n",
       "2019-01-01 07:54:40.829759          0           2         0                0  \n",
       "2019-01-01 08:01:37.689910          0           0         0                0  \n",
       "2019-01-01 08:10:29.154320          0           3         0                0  \n",
       "2019-01-01 08:15:34.082043          8           2         2                2  \n",
       "...                               ...         ...       ...              ...  \n",
       "2019-05-29 21:33:52.172793          8           1         0                2  \n",
       "2019-05-29 21:38:43.165430          8           3         0                2  \n",
       "2019-05-29 21:58:30.144980         60           2         0               15  \n",
       "2019-05-29 22:18:53.757071         64           0         0               16  \n",
       "2019-05-29 22:27:20.316376          8           3         0                2  \n",
       "\n",
       "[57915 rows x 9 columns]"
      ]
     },
     "execution_count": 63,
     "metadata": {},
     "output_type": "execute_result"
    }
   ],
   "source": [
    "df_wait_time = df_sim.loc[df_sim['action'] == 'call']\n",
    "df_wait_time.drop('weight' , axis=1, inplace=True)\n",
    "df_wait_time"
   ]
  },
  {
   "cell_type": "markdown",
   "metadata": {},
   "source": [
    "### Question 1: Is the wait time related to time of the day?"
   ]
  },
  {
   "cell_type": "code",
   "execution_count": 81,
   "metadata": {},
   "outputs": [
    {
     "data": {
      "image/png": "[encoded data removed]",
      "text/plain": [
       "<Figure size 720x360 with 1 Axes>"
      ]
     },
     "metadata": {},
     "output_type": "display_data"
    }
   ],
   "source": [
    "wait_time_time_series = df_wait_time.wait_time.groupby(df_wait_time.wait_time.index.hour).mean()\n",
    "plt, ax = plt.subplots(figsize=(10,5))\n",
    "ax = sb.lineplot(data = wait_time_time_series)\n",
    "ax.set_title(\"Average Wait Time by Hour\")\n",
    "ax.set_xlabel(\"Hour\")\n",
    "ax.set_ylabel(\"Average Wait Time (seconds)\")\n",
    "plt.show()"
   ]
  },
  {
   "cell_type": "markdown",
   "metadata": {},
   "source": [
    "Conclusion: Can see from the graph, wait time spikes at some specific times during the day."
   ]
  },
  {
   "cell_type": "markdown",
   "metadata": {},
   "source": [
    "### Question 2: Is the wait time related to floors?"
   ]
  }
 ],
 "metadata": {
  "kernelspec": {
   "display_name": "Python 3.10.2 64-bit",
   "language": "python",
   "name": "python3"
  },
  "language_info": {
   "codemirror_mode": {
    "name": "ipython",
    "version": 3
   },
   "file_extension": ".py",
   "mimetype": "text/x-python",
   "name": "python",
   "nbconvert_exporter": "python",
   "pygments_lexer": "ipython3",
   "version": "3.10.2"
  },
  "orig_nbformat": 4,
  "vscode": {
   "interpreter": {
    "hash": "329c9f7a7f77585ad8b35f9e51a17cf73953c07e957d6f18b0a2f36c061b80b9"
   }
  }
 },
 "nbformat": 4,
 "nbformat_minor": 2
}
