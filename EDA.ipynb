{
 "cells": [
  {
   "cell_type": "markdown",
   "metadata": {},
   "source": [
    "# EDA "
   ]
  },
  {
   "cell_type": "markdown",
   "metadata": {},
   "source": [
    "### Import Essential Libraries and Dataset"
   ]
  },
  {
   "cell_type": "code",
   "execution_count": 5,
   "metadata": {},
   "outputs": [],
   "source": [
    "# importing libraries\n",
    "import numpy as np\n",
    "import pandas as pd\n",
    "import matplotlib.pyplot as plt\n",
    "import seaborn as sb\n",
    "sb.set()\n",
    "import warnings\n",
    "warnings.filterwarnings(\"ignore\")\n",
    "from collections import Counter"
   ]
  },
  {
   "cell_type": "code",
   "execution_count": 13,
   "metadata": {},
   "outputs": [
    {
     "name": "stdout",
     "output_type": "stream",
     "text": [
      "<class 'pandas.core.frame.DataFrame'>\n",
      "RangeIndex: 28957 entries, 0 to 28956\n",
      "Data columns (total 6 columns):\n",
      " #   Column   Non-Null Count  Dtype \n",
      "---  ------   --------------  ----- \n",
      " 0   action   28957 non-null  object\n",
      " 1   guest    28957 non-null  bool  \n",
      " 2   id       28957 non-null  int64 \n",
      " 3   subject  28957 non-null  object\n",
      " 4   system   28957 non-null  object\n",
      " 5   time     28957 non-null  object\n",
      "dtypes: bool(1), int64(1), object(4)\n",
      "memory usage: 1.1+ MB\n",
      "<class 'pandas.core.frame.DataFrame'>\n",
      "RangeIndex: 166941 entries, 0 to 166940\n",
      "Data columns (total 9 columns):\n",
      " #   Column      Non-Null Count   Dtype  \n",
      "---  ------      --------------   -----  \n",
      " 0   action      166941 non-null  object \n",
      " 1   direction   57915 non-null   object \n",
      " 2   floor       166941 non-null  int64  \n",
      " 3   subject     166941 non-null  object \n",
      " 4   system      166941 non-null  object \n",
      " 5   time        166941 non-null  object \n",
      " 6   weight      109026 non-null  float64\n",
      " 7   date        166941 non-null  object \n",
      " 8   date_daily  166941 non-null  object \n",
      "dtypes: float64(1), int64(1), object(7)\n",
      "memory usage: 11.5+ MB\n"
     ]
    }
   ],
   "source": [
    "# import dataset\n",
    "df_people = pd.read_csv('data\\\\people.csv')\n",
    "df_sim = pd.read_csv('data\\\\simulation.csv')\n",
    "\n",
    "# data information\n",
    "df_people.info()\n",
    "df_sim.info()"
   ]
  },
  {
   "cell_type": "markdown",
   "metadata": {},
   "source": [
    "* people.csv documented all of the swipes into the buildings security system\n",
    "* simulation.csv is a log of each elevator's status and operations, there were total  4 elevators in the 20 story building."
   ]
  }
 ],
 "metadata": {
  "kernelspec": {
   "display_name": "Python 3.10.2 64-bit",
   "language": "python",
   "name": "python3"
  },
  "language_info": {
   "codemirror_mode": {
    "name": "ipython",
    "version": 3
   },
   "file_extension": ".py",
   "mimetype": "text/x-python",
   "name": "python",
   "nbconvert_exporter": "python",
   "pygments_lexer": "ipython3",
   "version": "3.10.2"
  },
  "orig_nbformat": 4,
  "vscode": {
   "interpreter": {
    "hash": "329c9f7a7f77585ad8b35f9e51a17cf73953c07e957d6f18b0a2f36c061b80b9"
   }
  }
 },
 "nbformat": 4,
 "nbformat_minor": 2
}
